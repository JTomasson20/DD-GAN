{
 "cells": [
  {
   "cell_type": "markdown",
   "id": "7a7223bd",
   "metadata": {},
   "source": [
    "# Example usage notebook of the DD-GAN repo"
   ]
  },
  {
   "cell_type": "code",
   "execution_count": 1,
   "id": "25ab6318",
   "metadata": {},
   "outputs": [],
   "source": [
    "import time\n",
    "import numpy as np\n",
    "import sklearn.preprocessing\n",
    "import tensorflow as tf"
   ]
  },
  {
   "cell_type": "markdown",
   "id": "aef89078",
   "metadata": {},
   "source": [
    "After installation of the ddgan package run the following line to import it"
   ]
  },
  {
   "cell_type": "code",
   "execution_count": 2,
   "id": "dd9de8cf",
   "metadata": {},
   "outputs": [],
   "source": [
    "from ddgan import GAN\n",
    "from ddgan import *"
   ]
  },
  {
   "cell_type": "code",
   "execution_count": 3,
   "id": "d6d46796",
   "metadata": {},
   "outputs": [
    {
     "name": "stdout",
     "output_type": "stream",
     "text": [
      "looking for previous saved models\n",
      "making new generator and critic\n",
      "type and shape (nPOD by nTrain) of POD coeffs from csv file <class 'numpy.ndarray'> (5, 204) float32\n"
     ]
    }
   ],
   "source": [
    "kwargs = {\n",
    "    \"nsteps\" : 5,\n",
    "    \"ndims\" : 5,\n",
    "    \"lmbda\" : 10,\n",
    "    \"n_critic\" : 5,\n",
    "    \"batches\" : 10,\n",
    "    \"batch_size\" : 20,\n",
    "    \"seed\" : 143\n",
    "}\n",
    "\n",
    "gan = GAN(**kwargs)\n",
    "gan.setup()\n",
    "set_seed(gan.seed)\n",
    "\n",
    "ndims_latent_input = 5\n",
    "\n",
    "#csv_data = np.load('../data/processed/pod_coeffs_field_Velocity_onegrid.npy', )\n",
    "csv_data = np.loadtxt('../data/processed/POD_coeffs_1_204_orig.csv', delimiter=',')\n",
    "csv_data = np.float32(csv_data)\n",
    "#csv_data = csv_data[0,:,:]ææææææææææáððððáþÞÆ\n",
    "                    \n",
    "\n",
    "print('type and shape (nPOD by nTrain) of POD coeffs from csv file', type(csv_data), csv_data.shape, csv_data.dtype)\n"
   ]
  },
  {
   "cell_type": "code",
   "execution_count": 4,
   "id": "855d3498",
   "metadata": {},
   "outputs": [],
   "source": [
    "nTrain = csv_data.shape[1]\n",
    "nPOD = csv_data.shape[0]\n",
    "\n",
    "csv_data = csv_data.T # nTrain by nPOD\n"
   ]
  },
  {
   "cell_type": "code",
   "execution_count": 5,
   "id": "75f9b690",
   "metadata": {},
   "outputs": [
    {
     "name": "stdout",
     "output_type": "stream",
     "text": [
      "min and max of col,  0  of csv_data: -1.0 1.0\n",
      "min and max of col,  1  of csv_data: -1.0 1.0000001\n",
      "min and max of col,  2  of csv_data: -1.0 1.0\n",
      "min and max of col,  3  of csv_data: -1.0 1.0\n",
      "min and max of col,  4  of csv_data: -1.0 1.0\n"
     ]
    }
   ],
   "source": [
    "scaling = sklearn.preprocessing.MinMaxScaler(feature_range=[-1,1])\n",
    "csv_data = scaling.fit_transform(csv_data)\n",
    "\n",
    "for icol in range(csv_data.shape[1]):\n",
    "    print('min and max of col, ', icol ,' of csv_data:', np.min(csv_data[:,icol]), np.max(csv_data[:,icol]) )"
   ]
  },
  {
   "cell_type": "code",
   "execution_count": 6,
   "id": "8687e888",
   "metadata": {},
   "outputs": [
    {
     "name": "stdout",
     "output_type": "stream",
     "text": [
      "Shape of training data for the GAN (200, 25) float32\n"
     ]
    }
   ],
   "source": [
    "nsteps = 5\n",
    "t_begin = 0\n",
    "t_end = nTrain - nsteps + 1\n",
    "training_data = np.zeros((t_end, nPOD * nsteps), dtype=np.float32) # nTrain by nsteps*nPOD # 'float32' or np.float32\n",
    "\n",
    "input_to_GAN = tf.random.normal([training_data.shape[0], ndims_latent_input])\n",
    "input_to_GAN = input_to_GAN.numpy()\n",
    "\n",
    "for step in range(nsteps):\n",
    "    training_data[:,step*nPOD:(step+1)*nPOD] = csv_data[t_begin+step : t_end+step,:]\n",
    "print('Shape of training data for the GAN', training_data.shape, training_data.dtype)"
   ]
  },
  {
   "cell_type": "code",
   "execution_count": null,
   "id": "9f43f343",
   "metadata": {},
   "outputs": [
    {
     "name": "stdout",
     "output_type": "stream",
     "text": [
      "beginning training\n",
      "epoch: 0\n"
     ]
    }
   ],
   "source": [
    "t0 = time.time()\n",
    "gan.learn_hypersurface_from_POD_coeffs(nPOD, input_to_GAN, training_data, ndims_latent_input)\n",
    "t_train = time.time() - t0"
   ]
  },
  {
   "cell_type": "code",
   "execution_count": null,
   "id": "0d873541",
   "metadata": {},
   "outputs": [],
   "source": [
    "kwargs_opt = {\n",
    "    \"initial\" : 5,\n",
    "    \"inn\" : 10,\n",
    "    \"iterations\" : 20,\n",
    "    \"optimizer_epochs\" : 5000,\n",
    "    \"GAN\" : gan\n",
    "}\n",
    "\n",
    "\n",
    "optimizer = Optimize(**kwargs_opt)"
   ]
  },
  {
   "cell_type": "code",
   "execution_count": null,
   "id": "518e71e4",
   "metadata": {},
   "outputs": [],
   "source": [
    "Optimize.timesteps()"
   ]
  },
  {
   "cell_type": "code",
   "execution_count": null,
   "id": "69dc85a8",
   "metadata": {},
   "outputs": [],
   "source": []
  },
  {
   "cell_type": "code",
   "execution_count": null,
   "id": "dd6c60de",
   "metadata": {},
   "outputs": [],
   "source": []
  },
  {
   "cell_type": "code",
   "execution_count": null,
   "id": "2bcf7c78",
   "metadata": {},
   "outputs": [],
   "source": []
  },
  {
   "cell_type": "code",
   "execution_count": null,
   "id": "cff9e689",
   "metadata": {},
   "outputs": [],
   "source": []
  },
  {
   "cell_type": "code",
   "execution_count": null,
   "id": "ea36e5a1",
   "metadata": {},
   "outputs": [],
   "source": []
  },
  {
   "cell_type": "code",
   "execution_count": null,
   "id": "9e8d5742",
   "metadata": {},
   "outputs": [],
   "source": []
  }
 ],
 "metadata": {
  "kernelspec": {
   "display_name": "Python 3",
   "language": "python",
   "name": "python3"
  },
  "language_info": {
   "codemirror_mode": {
    "name": "ipython",
    "version": 3
   },
   "file_extension": ".py",
   "mimetype": "text/x-python",
   "name": "python",
   "nbconvert_exporter": "python",
   "pygments_lexer": "ipython3",
   "version": "3.8.10"
  }
 },
 "nbformat": 4,
 "nbformat_minor": 5
}
