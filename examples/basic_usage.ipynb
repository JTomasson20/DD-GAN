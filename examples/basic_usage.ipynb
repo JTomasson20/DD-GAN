{
 "cells": [
  {
   "cell_type": "markdown",
   "id": "2f272981",
   "metadata": {},
   "source": [
    "# Example usage notebook of the DD-GAN repo"
   ]
  },
  {
   "cell_type": "code",
   "execution_count": 1,
   "id": "7016a0a9",
   "metadata": {},
   "outputs": [],
   "source": [
    "import time\n",
    "import numpy as np\n",
    "import sklearn.preprocessing\n",
    "import tensorflow as tf"
   ]
  },
  {
   "cell_type": "markdown",
   "id": "efce4a49",
   "metadata": {},
   "source": [
    "After installation of the ddgan package run the following line to import it"
   ]
  },
  {
   "cell_type": "code",
   "execution_count": 2,
   "id": "b944d331",
   "metadata": {},
   "outputs": [],
   "source": [
    "from ddgan import GAN\n",
    "from ddgan import *"
   ]
  },
  {
   "cell_type": "code",
   "execution_count": 3,
   "id": "ce8583eb",
   "metadata": {},
   "outputs": [
    {
     "name": "stdout",
     "output_type": "stream",
     "text": [
      "looking for previous saved models\n",
      "making new generator and critic\n",
      "type and shape (nPOD by nTrain) of POD coeffs from csv file <class 'numpy.ndarray'> (5, 204) float32\n"
     ]
    }
   ],
   "source": [
    "kwargs = {\n",
    "    \"nsteps\" : 5,\n",
    "    \"ndims\" : 5,\n",
    "    \"lmbda\" : 10,\n",
    "    \"n_critic\" : 5,\n",
    "    \"batches\" : 10,\n",
    "    \"batch_size\" : 20,\n",
    "    \"seed\" : 143\n",
    "}\n",
    "\n",
    "gan = GAN(**kwargs)\n",
    "gan.setup()\n",
    "set_seed(gan.seed)\n",
    "\n",
    "ndims_latent_input = 5\n",
    "\n",
    "#csv_data = np.load('../data/processed/pod_coeffs_field_Velocity_onegrid.npy', )\n",
    "csv_data = np.loadtxt('../data/processed/POD_coeffs_1_204_orig.csv', delimiter=',')\n",
    "csv_data = np.float32(csv_data)\n",
    "#csv_data = csv_data[0,:,:]ææææææææææáððððáþÞÆ\n",
    "                    \n",
    "\n",
    "print('type and shape (nPOD by nTrain) of POD coeffs from csv file', type(csv_data), csv_data.shape, csv_data.dtype)\n"
   ]
  },
  {
   "cell_type": "code",
   "execution_count": 4,
   "id": "4582fef0",
   "metadata": {},
   "outputs": [],
   "source": [
    "nTrain = csv_data.shape[1]\n",
    "nPOD = csv_data.shape[0]\n",
    "\n",
    "csv_data = csv_data.T # nTrain by nPOD\n"
   ]
  },
  {
   "cell_type": "code",
   "execution_count": 5,
   "id": "269aef2d",
   "metadata": {},
   "outputs": [
    {
     "name": "stdout",
     "output_type": "stream",
     "text": [
      "min and max of col,  0  of csv_data: -1.0 1.0\n",
      "min and max of col,  1  of csv_data: -1.0 1.0000001\n",
      "min and max of col,  2  of csv_data: -1.0 1.0\n",
      "min and max of col,  3  of csv_data: -1.0 1.0\n",
      "min and max of col,  4  of csv_data: -1.0 1.0\n"
     ]
    }
   ],
   "source": [
    "scaling = sklearn.preprocessing.MinMaxScaler(feature_range=[-1,1])\n",
    "csv_data = scaling.fit_transform(csv_data)\n",
    "\n",
    "for icol in range(csv_data.shape[1]):\n",
    "    print('min and max of col, ', icol ,' of csv_data:', np.min(csv_data[:,icol]), np.max(csv_data[:,icol]) )"
   ]
  },
  {
   "cell_type": "code",
   "execution_count": 6,
   "id": "18949248",
   "metadata": {},
   "outputs": [
    {
     "name": "stdout",
     "output_type": "stream",
     "text": [
      "Shape of training data for the GAN (200, 25) float32\n"
     ]
    }
   ],
   "source": [
    "nsteps = 5\n",
    "t_begin = 0\n",
    "t_end = nTrain - nsteps + 1\n",
    "training_data = np.zeros((t_end, nPOD * nsteps), dtype=np.float32) # nTrain by nsteps*nPOD # 'float32' or np.float32\n",
    "\n",
    "input_to_GAN = tf.random.normal([training_data.shape[0], ndims_latent_input])\n",
    "input_to_GAN = input_to_GAN.numpy()\n",
    "\n",
    "for step in range(nsteps):\n",
    "    training_data[:,step*nPOD:(step+1)*nPOD] = csv_data[t_begin+step : t_end+step,:]\n",
    "print('Shape of training data for the GAN', training_data.shape, training_data.dtype)"
   ]
  },
  {
   "cell_type": "code",
   "execution_count": 7,
   "id": "4f5d57f5",
   "metadata": {},
   "outputs": [
    {
     "name": "stdout",
     "output_type": "stream",
     "text": [
      "beginning training\n",
      "epoch: 0\n",
      "[<tf.Variable 'dense/kernel:0' shape=(5, 5) dtype=float32, numpy=\n",
      "array([[-0.6327522 , -0.50542   ,  0.4299817 ,  0.29948306, -0.5596052 ],\n",
      "       [-0.699732  , -0.23958492, -0.27966952,  0.5152048 , -0.38847622],\n",
      "       [-0.7379004 , -0.07778484, -0.2784693 , -0.06087399,  0.6034943 ],\n",
      "       [ 0.26544726,  0.39098716,  0.4104302 ,  0.61889076, -0.42484418],\n",
      "       [-0.00462967, -0.12501293, -0.23175311, -0.42557347,  0.7655997 ]],\n",
      "      dtype=float32)>, <tf.Variable 'dense/bias:0' shape=(5,) dtype=float32, numpy=array([0., 0., 0., 0., 0.], dtype=float32)>]\n",
      "gen loss -0.0009700097 d loss 2.3174634 w_loss 0.24425566\n",
      "epoch: 1\n",
      "[<tf.Variable 'dense/kernel:0' shape=(5, 5) dtype=float32, numpy=\n",
      "array([[-0.63208133, -0.50564057,  0.4306676 ,  0.29973158, -0.55968606],\n",
      "       [-0.6994412 , -0.2396412 , -0.2793178 ,  0.51527137, -0.38895768],\n",
      "       [-0.73864734, -0.07703961, -0.27811903, -0.06167014,  0.6033211 ],\n",
      "       [ 0.26564205,  0.39115995,  0.40996096,  0.6184536 , -0.4250638 ],\n",
      "       [-0.00485166, -0.12466541, -0.23180896, -0.4258384 ,  0.7654482 ]],\n",
      "      dtype=float32)>, <tf.Variable 'dense/bias:0' shape=(5,) dtype=float32, numpy=\n",
      "array([-4.5025678e-05,  6.4369402e-04, -1.8049605e-04, -2.1628724e-04,\n",
      "       -5.1614078e-04], dtype=float32)>]\n",
      "gen loss 0.02658553 d loss 2.4343753 w_loss 0.294485\n",
      "epoch: 2\n",
      "[<tf.Variable 'dense/kernel:0' shape=(5, 5) dtype=float32, numpy=\n",
      "array([[-0.631998  , -0.50587404,  0.43098962,  0.29942206, -0.5590834 ],\n",
      "       [-0.69910955, -0.2401785 , -0.27934766,  0.51589537, -0.38911155],\n",
      "       [-0.73914653, -0.07620765, -0.2775563 , -0.06207638,  0.6035667 ],\n",
      "       [ 0.26540917,  0.39083394,  0.40960252,  0.61798036, -0.4246248 ],\n",
      "       [-0.00488145, -0.12414599, -0.23228964, -0.4259871 ,  0.765749  ]],\n",
      "      dtype=float32)>, <tf.Variable 'dense/bias:0' shape=(5,) dtype=float32, numpy=\n",
      "array([ 0.0001809 ,  0.00058744, -0.00015214, -0.00015548, -0.00039152],\n",
      "      dtype=float32)>]\n",
      "gen loss 0.027933106 d loss 2.0874362 w_loss 0.22824144\n",
      "epoch: 3\n",
      "[<tf.Variable 'dense/kernel:0' shape=(5, 5) dtype=float32, numpy=\n",
      "array([[-0.63210344, -0.5053975 ,  0.43118623,  0.29966515, -0.5589972 ],\n",
      "       [-0.69869083, -0.24057785, -0.2794975 ,  0.5158504 , -0.38848537],\n",
      "       [-0.73962605, -0.07623945, -0.27744722, -0.06196402,  0.6035052 ],\n",
      "       [ 0.265276  ,  0.39110574,  0.40936697,  0.6177893 , -0.42458168],\n",
      "       [-0.00492143, -0.12418335, -0.23209128, -0.42617792,  0.76620704]],\n",
      "      dtype=float32)>, <tf.Variable 'dense/bias:0' shape=(5,) dtype=float32, numpy=\n",
      "array([ 3.1736758e-04,  7.7744783e-04, -7.8220575e-05,  1.9026073e-04,\n",
      "       -4.5097619e-04], dtype=float32)>]\n",
      "gen loss 0.107926086 d loss 2.317512 w_loss 0.2731367\n",
      "epoch: 4\n",
      "[<tf.Variable 'dense/kernel:0' shape=(5, 5) dtype=float32, numpy=\n",
      "array([[-0.6317544 , -0.5054629 ,  0.43074086,  0.29975665, -0.55932415],\n",
      "       [-0.6989868 , -0.2405381 , -0.2798818 ,  0.51642317, -0.38876674],\n",
      "       [-0.73974997, -0.07622087, -0.27724594, -0.06233248,  0.6033943 ],\n",
      "       [ 0.26493415,  0.39117727,  0.40984246,  0.6172508 , -0.42412463],\n",
      "       [-0.00535523, -0.12387766, -0.23193623, -0.4259999 ,  0.76597714]],\n",
      "      dtype=float32)>, <tf.Variable 'dense/bias:0' shape=(5,) dtype=float32, numpy=\n",
      "array([ 4.8023081e-04,  8.5017079e-04, -7.6871904e-05,  4.4769401e-04,\n",
      "       -5.0271867e-04], dtype=float32)>]\n",
      "gen loss 0.10352085 d loss 2.2630749 w_loss 0.37811357\n",
      "epoch: 5\n",
      "[<tf.Variable 'dense/kernel:0' shape=(5, 5) dtype=float32, numpy=\n",
      "array([[-0.63202757, -0.50495356,  0.43075   ,  0.29973468, -0.5594925 ],\n",
      "       [-0.6987057 , -0.24103136, -0.28049576,  0.5168687 , -0.3891768 ],\n",
      "       [-0.74018663, -0.07639811, -0.2771271 , -0.06199755,  0.60303104],\n",
      "       [ 0.26428062,  0.39150986,  0.4093683 ,  0.6168561 , -0.42467788],\n",
      "       [-0.00490558, -0.1238383 , -0.23206867, -0.42587063,  0.76553714]],\n",
      "      dtype=float32)>, <tf.Variable 'dense/bias:0' shape=(5,) dtype=float32, numpy=\n",
      "array([-2.4659766e-04,  1.1678103e-03, -3.4700969e-04,  8.9342517e-05,\n",
      "       -1.5521012e-04], dtype=float32)>]\n",
      "gen loss 0.09130867 d loss 1.8418452 w_loss 0.44445705\n",
      "epoch: 6\n",
      "[<tf.Variable 'dense/kernel:0' shape=(5, 5) dtype=float32, numpy=\n",
      "array([[-0.6319762 , -0.5047925 ,  0.43109268,  0.29987213, -0.55965036],\n",
      "       [-0.69906294, -0.24099296, -0.28037688,  0.5173657 , -0.38927284],\n",
      "       [-0.73999363, -0.07607473, -0.27696094, -0.06168723,  0.60298157],\n",
      "       [ 0.2640453 ,  0.39187342,  0.40916592,  0.6166526 , -0.42528626],\n",
      "       [-0.00491493, -0.12339255, -0.23214215, -0.42554075,  0.7651018 ]],\n",
      "      dtype=float32)>, <tf.Variable 'dense/bias:0' shape=(5,) dtype=float32, numpy=\n",
      "array([-0.00054132,  0.00123084, -0.00075235,  0.00026535, -0.00023841],\n",
      "      dtype=float32)>]\n",
      "gen loss 0.16054775 d loss 2.0984693 w_loss 0.40048093\n",
      "epoch: 7\n",
      "[<tf.Variable 'dense/kernel:0' shape=(5, 5) dtype=float32, numpy=\n",
      "array([[-0.6317286 , -0.50462514,  0.4316106 ,  0.2995401 , -0.55959904],\n",
      "       [-0.6993368 , -0.24157563, -0.28007174,  0.51770175, -0.38968223],\n",
      "       [-0.739877  , -0.07580741, -0.27674097, -0.06202744,  0.60345954],\n",
      "       [ 0.26411995,  0.39153388,  0.40912142,  0.61684734, -0.4250652 ],\n",
      "       [-0.00487225, -0.12379915, -0.23182368, -0.4251749 ,  0.7648154 ]],\n",
      "      dtype=float32)>, <tf.Variable 'dense/bias:0' shape=(5,) dtype=float32, numpy=\n",
      "array([-3.5980993e-04,  8.7648281e-04, -6.7007699e-04,  2.0719314e-04,\n",
      "        4.6635054e-05], dtype=float32)>]\n",
      "gen loss 0.1094345 d loss 1.5427476 w_loss 0.44934788\n",
      "epoch: 8\n",
      "[<tf.Variable 'dense/kernel:0' shape=(5, 5) dtype=float32, numpy=\n",
      "array([[-0.63136685, -0.50463367,  0.43127516,  0.29942968, -0.5595831 ],\n",
      "       [-0.69896024, -0.24204418, -0.2800975 ,  0.51790327, -0.38963476],\n",
      "       [-0.74056   , -0.07586203, -0.27667847, -0.06219795,  0.6036719 ],\n",
      "       [ 0.26408327,  0.39125827,  0.4096865 ,  0.6164918 , -0.42491102],\n",
      "       [-0.00473164, -0.12346202, -0.23152012, -0.42530733,  0.7646616 ]],\n",
      "      dtype=float32)>, <tf.Variable 'dense/bias:0' shape=(5,) dtype=float32, numpy=\n",
      "array([ 1.5833546e-05,  9.9178485e-04, -9.5030630e-04,  5.8517657e-04,\n",
      "       -6.0262140e-05], dtype=float32)>]\n",
      "gen loss 0.13982248 d loss 1.7891428 w_loss 0.5160257\n",
      "epoch: 9\n",
      "[<tf.Variable 'dense/kernel:0' shape=(5, 5) dtype=float32, numpy=\n",
      "array([[-0.6312383 , -0.50477684,  0.43151116,  0.2995978 , -0.5598212 ],\n",
      "       [-0.69940776, -0.24197847, -0.2805806 ,  0.5179831 , -0.3900283 ],\n",
      "       [-0.74013734, -0.07601184, -0.2765617 , -0.06205048,  0.6034845 ],\n",
      "       [ 0.26394984,  0.39099756,  0.4091925 ,  0.6163463 , -0.42500594],\n",
      "       [-0.00487765, -0.12376565, -0.23170137, -0.4252187 ,  0.76439077]],\n",
      "      dtype=float32)>, <tf.Variable 'dense/bias:0' shape=(5,) dtype=float32, numpy=\n",
      "array([-3.3415412e-04,  9.8308688e-04, -1.4077181e-03,  1.0755365e-03,\n",
      "       -4.4771376e-05], dtype=float32)>]\n",
      "gen loss 0.17499992 d loss 1.432851 w_loss 0.4919364\n",
      "epoch: 10\n",
      "[<tf.Variable 'dense/kernel:0' shape=(5, 5) dtype=float32, numpy=\n",
      "array([[-0.63098824, -0.5049702 ,  0.4314773 ,  0.29995683, -0.55973786],\n",
      "       [-0.69957876, -0.24204245, -0.28006464,  0.51802427, -0.39007154],\n",
      "       [-0.74031466, -0.07615144, -0.27668375, -0.06169216,  0.60373104],\n",
      "       [ 0.26336578,  0.39076382,  0.40931818,  0.6159369 , -0.42483157],\n",
      "       [-0.00519173, -0.12311316, -0.23185234, -0.4255158 ,  0.76425225]],\n",
      "      dtype=float32)>, <tf.Variable 'dense/bias:0' shape=(5,) dtype=float32, numpy=\n",
      "array([-0.00059795,  0.0010417 , -0.00141113,  0.00127222, -0.00020981],\n",
      "      dtype=float32)>]\n",
      "gen loss 0.16903764 d loss 1.6398557 w_loss 0.6123141\n",
      "epoch: 11\n",
      "[<tf.Variable 'dense/kernel:0' shape=(5, 5) dtype=float32, numpy=\n",
      "array([[-0.6315632 , -0.50480956,  0.43150055,  0.3005262 , -0.5596012 ],\n",
      "       [-0.6996916 , -0.24222592, -0.2804435 ,  0.51802534, -0.39049178],\n",
      "       [-0.7400625 , -0.07589092, -0.27663437, -0.06204077,  0.6041094 ],\n",
      "       [ 0.26291117,  0.39087355,  0.40911007,  0.61564523, -0.4245876 ],\n",
      "       [-0.00513264, -0.12299176, -0.2318727 , -0.42532566,  0.76402277]],\n",
      "      dtype=float32)>, <tf.Variable 'dense/bias:0' shape=(5,) dtype=float32, numpy=\n",
      "array([-0.00032229,  0.00100069, -0.00153421,  0.00099382, -0.00039765],\n",
      "      dtype=float32)>]\n"
     ]
    },
    {
     "name": "stdout",
     "output_type": "stream",
     "text": [
      "gen loss 0.25505334 d loss 1.4764977 w_loss 0.6393962\n",
      "epoch: 12\n",
      "[<tf.Variable 'dense/kernel:0' shape=(5, 5) dtype=float32, numpy=\n",
      "array([[-0.63147104, -0.50464517,  0.43192157,  0.30063018, -0.5597366 ],\n",
      "       [-0.6998341 , -0.24256   , -0.28060752,  0.51833445, -0.3906113 ],\n",
      "       [-0.7401193 , -0.07600757, -0.2764669 , -0.06207204,  0.6040662 ],\n",
      "       [ 0.26280367,  0.3908023 ,  0.40869087,  0.61558896, -0.4240062 ],\n",
      "       [-0.00547732, -0.12264955, -0.23200198, -0.42496184,  0.7641518 ]],\n",
      "      dtype=float32)>, <tf.Variable 'dense/bias:0' shape=(5,) dtype=float32, numpy=\n",
      "array([-0.00079348,  0.00108555, -0.0013911 ,  0.00087117, -0.00055054],\n",
      "      dtype=float32)>]\n"
     ]
    },
    {
     "ename": "KeyboardInterrupt",
     "evalue": "",
     "output_type": "error",
     "traceback": [
      "\u001b[0;31m---------------------------------------------------------------------------\u001b[0m",
      "\u001b[0;31mKeyboardInterrupt\u001b[0m                         Traceback (most recent call last)",
      "\u001b[0;32m<ipython-input-7-57d9d419b9d8>\u001b[0m in \u001b[0;36m<module>\u001b[0;34m\u001b[0m\n\u001b[1;32m      1\u001b[0m \u001b[0mt0\u001b[0m \u001b[0;34m=\u001b[0m \u001b[0mtime\u001b[0m\u001b[0;34m.\u001b[0m\u001b[0mtime\u001b[0m\u001b[0;34m(\u001b[0m\u001b[0;34m)\u001b[0m\u001b[0;34m\u001b[0m\u001b[0;34m\u001b[0m\u001b[0m\n\u001b[0;32m----> 2\u001b[0;31m \u001b[0mgan\u001b[0m\u001b[0;34m.\u001b[0m\u001b[0mlearn_hypersurface_from_POD_coeffs\u001b[0m\u001b[0;34m(\u001b[0m\u001b[0mnPOD\u001b[0m\u001b[0;34m,\u001b[0m \u001b[0minput_to_GAN\u001b[0m\u001b[0;34m,\u001b[0m \u001b[0mtraining_data\u001b[0m\u001b[0;34m,\u001b[0m \u001b[0mndims_latent_input\u001b[0m\u001b[0;34m)\u001b[0m\u001b[0;34m\u001b[0m\u001b[0;34m\u001b[0m\u001b[0m\n\u001b[0m\u001b[1;32m      3\u001b[0m \u001b[0mt_train\u001b[0m \u001b[0;34m=\u001b[0m \u001b[0mtime\u001b[0m\u001b[0;34m.\u001b[0m\u001b[0mtime\u001b[0m\u001b[0;34m(\u001b[0m\u001b[0;34m)\u001b[0m \u001b[0;34m-\u001b[0m \u001b[0mt0\u001b[0m\u001b[0;34m\u001b[0m\u001b[0;34m\u001b[0m\u001b[0m\n",
      "\u001b[0;32m/mnt/c/Users/Jón Atli Tómasson/OneDrive - Imperial College London/acse9/Final project/DD-GAN/DD-GAN/ddgan/src/Train.py\u001b[0m in \u001b[0;36mlearn_hypersurface_from_POD_coeffs\u001b[0;34m(self, nPOD, input_to_GAN, training_data, ndims_latent_input)\u001b[0m\n\u001b[1;32m    313\u001b[0m         \u001b[0mprint\u001b[0m\u001b[0;34m(\u001b[0m\u001b[0;34m'beginning training'\u001b[0m\u001b[0;34m)\u001b[0m\u001b[0;34m\u001b[0m\u001b[0;34m\u001b[0m\u001b[0m\n\u001b[1;32m    314\u001b[0m         \u001b[0mepochs\u001b[0m \u001b[0;34m=\u001b[0m \u001b[0;36m500\u001b[0m\u001b[0;34m\u001b[0m\u001b[0;34m\u001b[0m\u001b[0m\n\u001b[0;32m--> 315\u001b[0;31m         \u001b[0mself\u001b[0m\u001b[0;34m.\u001b[0m\u001b[0mtrain\u001b[0m\u001b[0;34m(\u001b[0m\u001b[0mtraining_data\u001b[0m\u001b[0;34m,\u001b[0m \u001b[0minput_to_GAN\u001b[0m\u001b[0;34m,\u001b[0m \u001b[0mepochs\u001b[0m\u001b[0;34m)\u001b[0m\u001b[0;34m\u001b[0m\u001b[0;34m\u001b[0m\u001b[0m\n\u001b[0m\u001b[1;32m    316\u001b[0m         \u001b[0mprint\u001b[0m\u001b[0;34m(\u001b[0m\u001b[0;34m'ending training'\u001b[0m\u001b[0;34m)\u001b[0m\u001b[0;34m\u001b[0m\u001b[0;34m\u001b[0m\u001b[0m\n\u001b[1;32m    317\u001b[0m \u001b[0;34m\u001b[0m\u001b[0m\n",
      "\u001b[0;32m/mnt/c/Users/Jón Atli Tómasson/OneDrive - Imperial College London/acse9/Final project/DD-GAN/DD-GAN/ddgan/src/Train.py\u001b[0m in \u001b[0;36mtrain\u001b[0;34m(self, training_data, input_to_GAN, epochs)\u001b[0m\n\u001b[1;32m    273\u001b[0m \u001b[0;34m\u001b[0m\u001b[0m\n\u001b[1;32m    274\u001b[0m             \u001b[0;32mfor\u001b[0m \u001b[0mi\u001b[0m \u001b[0;32min\u001b[0m \u001b[0mrange\u001b[0m\u001b[0;34m(\u001b[0m\u001b[0mself\u001b[0m\u001b[0;34m.\u001b[0m\u001b[0mbatches\u001b[0m\u001b[0;34m)\u001b[0m\u001b[0;34m:\u001b[0m\u001b[0;34m\u001b[0m\u001b[0;34m\u001b[0m\u001b[0m\n\u001b[0;32m--> 275\u001b[0;31m                 \u001b[0mtrain_step\u001b[0m\u001b[0;34m(\u001b[0m\u001b[0mself\u001b[0m\u001b[0;34m,\u001b[0m \u001b[0minpt1\u001b[0m\u001b[0;34m[\u001b[0m\u001b[0mi\u001b[0m\u001b[0;34m]\u001b[0m\u001b[0;34m,\u001b[0m \u001b[0mxx1\u001b[0m\u001b[0;34m[\u001b[0m\u001b[0mi\u001b[0m\u001b[0;34m]\u001b[0m\u001b[0;34m)\u001b[0m\u001b[0;34m\u001b[0m\u001b[0;34m\u001b[0m\u001b[0m\n\u001b[0m\u001b[1;32m    276\u001b[0m \u001b[0;34m\u001b[0m\u001b[0m\n\u001b[1;32m    277\u001b[0m             \u001b[0mprint\u001b[0m\u001b[0;34m(\u001b[0m\u001b[0;34m'gen loss'\u001b[0m\u001b[0;34m,\u001b[0m \u001b[0mself\u001b[0m\u001b[0;34m.\u001b[0m\u001b[0mg_loss\u001b[0m\u001b[0;34m.\u001b[0m\u001b[0mresult\u001b[0m\u001b[0;34m(\u001b[0m\u001b[0;34m)\u001b[0m\u001b[0;34m.\u001b[0m\u001b[0mnumpy\u001b[0m\u001b[0;34m(\u001b[0m\u001b[0;34m)\u001b[0m\u001b[0;34m,\u001b[0m \u001b[0;34m'd loss'\u001b[0m\u001b[0;34m,\u001b[0m \u001b[0mself\u001b[0m\u001b[0;34m.\u001b[0m\u001b[0md_loss\u001b[0m\u001b[0;34m.\u001b[0m\u001b[0mresult\u001b[0m\u001b[0;34m(\u001b[0m\u001b[0;34m)\u001b[0m\u001b[0;34m.\u001b[0m\u001b[0mnumpy\u001b[0m\u001b[0;34m(\u001b[0m\u001b[0;34m)\u001b[0m\u001b[0;34m,\u001b[0m \u001b[0;34m'w_loss'\u001b[0m \u001b[0;34m,\u001b[0m \u001b[0mself\u001b[0m\u001b[0;34m.\u001b[0m\u001b[0mw_loss\u001b[0m\u001b[0;34m.\u001b[0m\u001b[0mresult\u001b[0m\u001b[0;34m(\u001b[0m\u001b[0;34m)\u001b[0m\u001b[0;34m.\u001b[0m\u001b[0mnumpy\u001b[0m\u001b[0;34m(\u001b[0m\u001b[0;34m)\u001b[0m\u001b[0;34m)\u001b[0m\u001b[0;34m\u001b[0m\u001b[0;34m\u001b[0m\u001b[0m\n",
      "\u001b[0;32m~/miniconda3/envs/acse9/lib/python3.9/site-packages/tensorflow/python/eager/def_function.py\u001b[0m in \u001b[0;36m__call__\u001b[0;34m(self, *args, **kwds)\u001b[0m\n\u001b[1;32m    826\u001b[0m     \u001b[0mtracing_count\u001b[0m \u001b[0;34m=\u001b[0m \u001b[0mself\u001b[0m\u001b[0;34m.\u001b[0m\u001b[0mexperimental_get_tracing_count\u001b[0m\u001b[0;34m(\u001b[0m\u001b[0;34m)\u001b[0m\u001b[0;34m\u001b[0m\u001b[0;34m\u001b[0m\u001b[0m\n\u001b[1;32m    827\u001b[0m     \u001b[0;32mwith\u001b[0m \u001b[0mtrace\u001b[0m\u001b[0;34m.\u001b[0m\u001b[0mTrace\u001b[0m\u001b[0;34m(\u001b[0m\u001b[0mself\u001b[0m\u001b[0;34m.\u001b[0m\u001b[0m_name\u001b[0m\u001b[0;34m)\u001b[0m \u001b[0;32mas\u001b[0m \u001b[0mtm\u001b[0m\u001b[0;34m:\u001b[0m\u001b[0;34m\u001b[0m\u001b[0;34m\u001b[0m\u001b[0m\n\u001b[0;32m--> 828\u001b[0;31m       \u001b[0mresult\u001b[0m \u001b[0;34m=\u001b[0m \u001b[0mself\u001b[0m\u001b[0;34m.\u001b[0m\u001b[0m_call\u001b[0m\u001b[0;34m(\u001b[0m\u001b[0;34m*\u001b[0m\u001b[0margs\u001b[0m\u001b[0;34m,\u001b[0m \u001b[0;34m**\u001b[0m\u001b[0mkwds\u001b[0m\u001b[0;34m)\u001b[0m\u001b[0;34m\u001b[0m\u001b[0;34m\u001b[0m\u001b[0m\n\u001b[0m\u001b[1;32m    829\u001b[0m       \u001b[0mcompiler\u001b[0m \u001b[0;34m=\u001b[0m \u001b[0;34m\"xla\"\u001b[0m \u001b[0;32mif\u001b[0m \u001b[0mself\u001b[0m\u001b[0;34m.\u001b[0m\u001b[0m_experimental_compile\u001b[0m \u001b[0;32melse\u001b[0m \u001b[0;34m\"nonXla\"\u001b[0m\u001b[0;34m\u001b[0m\u001b[0;34m\u001b[0m\u001b[0m\n\u001b[1;32m    830\u001b[0m       \u001b[0mnew_tracing_count\u001b[0m \u001b[0;34m=\u001b[0m \u001b[0mself\u001b[0m\u001b[0;34m.\u001b[0m\u001b[0mexperimental_get_tracing_count\u001b[0m\u001b[0;34m(\u001b[0m\u001b[0;34m)\u001b[0m\u001b[0;34m\u001b[0m\u001b[0;34m\u001b[0m\u001b[0m\n",
      "\u001b[0;32m~/miniconda3/envs/acse9/lib/python3.9/site-packages/tensorflow/python/eager/def_function.py\u001b[0m in \u001b[0;36m_call\u001b[0;34m(self, *args, **kwds)\u001b[0m\n\u001b[1;32m    853\u001b[0m       \u001b[0;31m# In this case we have created variables on the first call, so we run the\u001b[0m\u001b[0;34m\u001b[0m\u001b[0;34m\u001b[0m\u001b[0;34m\u001b[0m\u001b[0m\n\u001b[1;32m    854\u001b[0m       \u001b[0;31m# defunned version which is guaranteed to never create variables.\u001b[0m\u001b[0;34m\u001b[0m\u001b[0;34m\u001b[0m\u001b[0;34m\u001b[0m\u001b[0m\n\u001b[0;32m--> 855\u001b[0;31m       \u001b[0;32mreturn\u001b[0m \u001b[0mself\u001b[0m\u001b[0;34m.\u001b[0m\u001b[0m_stateless_fn\u001b[0m\u001b[0;34m(\u001b[0m\u001b[0;34m*\u001b[0m\u001b[0margs\u001b[0m\u001b[0;34m,\u001b[0m \u001b[0;34m**\u001b[0m\u001b[0mkwds\u001b[0m\u001b[0;34m)\u001b[0m  \u001b[0;31m# pylint: disable=not-callable\u001b[0m\u001b[0;34m\u001b[0m\u001b[0;34m\u001b[0m\u001b[0m\n\u001b[0m\u001b[1;32m    856\u001b[0m     \u001b[0;32melif\u001b[0m \u001b[0mself\u001b[0m\u001b[0;34m.\u001b[0m\u001b[0m_stateful_fn\u001b[0m \u001b[0;32mis\u001b[0m \u001b[0;32mnot\u001b[0m \u001b[0;32mNone\u001b[0m\u001b[0;34m:\u001b[0m\u001b[0;34m\u001b[0m\u001b[0;34m\u001b[0m\u001b[0m\n\u001b[1;32m    857\u001b[0m       \u001b[0;31m# Release the lock early so that multiple threads can perform the call\u001b[0m\u001b[0;34m\u001b[0m\u001b[0;34m\u001b[0m\u001b[0;34m\u001b[0m\u001b[0m\n",
      "\u001b[0;32m~/miniconda3/envs/acse9/lib/python3.9/site-packages/tensorflow/python/eager/function.py\u001b[0m in \u001b[0;36m__call__\u001b[0;34m(self, *args, **kwargs)\u001b[0m\n\u001b[1;32m   2940\u001b[0m       (graph_function,\n\u001b[1;32m   2941\u001b[0m        filtered_flat_args) = self._maybe_define_function(args, kwargs)\n\u001b[0;32m-> 2942\u001b[0;31m     return graph_function._call_flat(\n\u001b[0m\u001b[1;32m   2943\u001b[0m         filtered_flat_args, captured_inputs=graph_function.captured_inputs)  # pylint: disable=protected-access\n\u001b[1;32m   2944\u001b[0m \u001b[0;34m\u001b[0m\u001b[0m\n",
      "\u001b[0;32m~/miniconda3/envs/acse9/lib/python3.9/site-packages/tensorflow/python/eager/function.py\u001b[0m in \u001b[0;36m_call_flat\u001b[0;34m(self, args, captured_inputs, cancellation_manager)\u001b[0m\n\u001b[1;32m   1916\u001b[0m         and executing_eagerly):\n\u001b[1;32m   1917\u001b[0m       \u001b[0;31m# No tape is watching; skip to running the function.\u001b[0m\u001b[0;34m\u001b[0m\u001b[0;34m\u001b[0m\u001b[0;34m\u001b[0m\u001b[0m\n\u001b[0;32m-> 1918\u001b[0;31m       return self._build_call_outputs(self._inference_function.call(\n\u001b[0m\u001b[1;32m   1919\u001b[0m           ctx, args, cancellation_manager=cancellation_manager))\n\u001b[1;32m   1920\u001b[0m     forward_backward = self._select_forward_and_backward_functions(\n",
      "\u001b[0;32m~/miniconda3/envs/acse9/lib/python3.9/site-packages/tensorflow/python/eager/function.py\u001b[0m in \u001b[0;36mcall\u001b[0;34m(self, ctx, args, cancellation_manager)\u001b[0m\n\u001b[1;32m    553\u001b[0m       \u001b[0;32mwith\u001b[0m \u001b[0m_InterpolateFunctionError\u001b[0m\u001b[0;34m(\u001b[0m\u001b[0mself\u001b[0m\u001b[0;34m)\u001b[0m\u001b[0;34m:\u001b[0m\u001b[0;34m\u001b[0m\u001b[0;34m\u001b[0m\u001b[0m\n\u001b[1;32m    554\u001b[0m         \u001b[0;32mif\u001b[0m \u001b[0mcancellation_manager\u001b[0m \u001b[0;32mis\u001b[0m \u001b[0;32mNone\u001b[0m\u001b[0;34m:\u001b[0m\u001b[0;34m\u001b[0m\u001b[0;34m\u001b[0m\u001b[0m\n\u001b[0;32m--> 555\u001b[0;31m           outputs = execute.execute(\n\u001b[0m\u001b[1;32m    556\u001b[0m               \u001b[0mstr\u001b[0m\u001b[0;34m(\u001b[0m\u001b[0mself\u001b[0m\u001b[0;34m.\u001b[0m\u001b[0msignature\u001b[0m\u001b[0;34m.\u001b[0m\u001b[0mname\u001b[0m\u001b[0;34m)\u001b[0m\u001b[0;34m,\u001b[0m\u001b[0;34m\u001b[0m\u001b[0;34m\u001b[0m\u001b[0m\n\u001b[1;32m    557\u001b[0m               \u001b[0mnum_outputs\u001b[0m\u001b[0;34m=\u001b[0m\u001b[0mself\u001b[0m\u001b[0;34m.\u001b[0m\u001b[0m_num_outputs\u001b[0m\u001b[0;34m,\u001b[0m\u001b[0;34m\u001b[0m\u001b[0;34m\u001b[0m\u001b[0m\n",
      "\u001b[0;32m~/miniconda3/envs/acse9/lib/python3.9/site-packages/tensorflow/python/eager/execute.py\u001b[0m in \u001b[0;36mquick_execute\u001b[0;34m(op_name, num_outputs, inputs, attrs, ctx, name)\u001b[0m\n\u001b[1;32m     57\u001b[0m   \u001b[0;32mtry\u001b[0m\u001b[0;34m:\u001b[0m\u001b[0;34m\u001b[0m\u001b[0;34m\u001b[0m\u001b[0m\n\u001b[1;32m     58\u001b[0m     \u001b[0mctx\u001b[0m\u001b[0;34m.\u001b[0m\u001b[0mensure_initialized\u001b[0m\u001b[0;34m(\u001b[0m\u001b[0;34m)\u001b[0m\u001b[0;34m\u001b[0m\u001b[0;34m\u001b[0m\u001b[0m\n\u001b[0;32m---> 59\u001b[0;31m     tensors = pywrap_tfe.TFE_Py_Execute(ctx._handle, device_name, op_name,\n\u001b[0m\u001b[1;32m     60\u001b[0m                                         inputs, attrs, num_outputs)\n\u001b[1;32m     61\u001b[0m   \u001b[0;32mexcept\u001b[0m \u001b[0mcore\u001b[0m\u001b[0;34m.\u001b[0m\u001b[0m_NotOkStatusException\u001b[0m \u001b[0;32mas\u001b[0m \u001b[0me\u001b[0m\u001b[0;34m:\u001b[0m\u001b[0;34m\u001b[0m\u001b[0;34m\u001b[0m\u001b[0m\n",
      "\u001b[0;31mKeyboardInterrupt\u001b[0m: "
     ]
    }
   ],
   "source": [
    "t0 = time.time()\n",
    "gan.learn_hypersurface_from_POD_coeffs(nPOD, input_to_GAN, training_data, ndims_latent_input)\n",
    "t_train = time.time() - t0"
   ]
  },
  {
   "cell_type": "code",
   "execution_count": null,
   "id": "57d4f861",
   "metadata": {},
   "outputs": [],
   "source": [
    "gan.generator.layers[0].get_weights()"
   ]
  },
  {
   "cell_type": "code",
   "execution_count": null,
   "id": "9f22d371",
   "metadata": {},
   "outputs": [],
   "source": []
  },
  {
   "cell_type": "code",
   "execution_count": null,
   "id": "dfa6341e",
   "metadata": {},
   "outputs": [],
   "source": []
  },
  {
   "cell_type": "code",
   "execution_count": null,
   "id": "afbbcef3",
   "metadata": {},
   "outputs": [],
   "source": []
  },
  {
   "cell_type": "code",
   "execution_count": null,
   "id": "c599003e",
   "metadata": {},
   "outputs": [],
   "source": []
  },
  {
   "cell_type": "code",
   "execution_count": null,
   "id": "1df5a8bd",
   "metadata": {},
   "outputs": [],
   "source": []
  },
  {
   "cell_type": "code",
   "execution_count": null,
   "id": "ba56b2fb",
   "metadata": {},
   "outputs": [],
   "source": []
  },
  {
   "cell_type": "code",
   "execution_count": null,
   "id": "06362ba1",
   "metadata": {},
   "outputs": [],
   "source": []
  },
  {
   "cell_type": "code",
   "execution_count": null,
   "id": "fe944df5",
   "metadata": {},
   "outputs": [],
   "source": []
  }
 ],
 "metadata": {
  "kernelspec": {
   "display_name": "Python 3",
   "language": "python",
   "name": "python3"
  },
  "language_info": {
   "codemirror_mode": {
    "name": "ipython",
    "version": 3
   },
   "file_extension": ".py",
   "mimetype": "text/x-python",
   "name": "python",
   "nbconvert_exporter": "python",
   "pygments_lexer": "ipython3",
   "version": "3.9.5"
  }
 },
 "nbformat": 4,
 "nbformat_minor": 5
}
