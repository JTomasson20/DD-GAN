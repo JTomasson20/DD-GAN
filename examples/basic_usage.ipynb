{
 "cells": [
  {
   "cell_type": "markdown",
   "id": "2f272981",
   "metadata": {},
   "source": [
    "# Example usage notebook of the DD-GAN repo"
   ]
  },
  {
   "cell_type": "code",
   "execution_count": 1,
   "id": "7016a0a9",
   "metadata": {},
   "outputs": [],
   "source": [
    "import time\n",
    "import numpy as np\n",
    "import sklearn.preprocessing\n",
    "import tensorflow as tf"
   ]
  },
  {
   "cell_type": "markdown",
   "id": "efce4a49",
   "metadata": {},
   "source": [
    "After installation of the ddgan package run the following line to import it"
   ]
  },
  {
   "cell_type": "code",
   "execution_count": 2,
   "id": "b944d331",
   "metadata": {},
   "outputs": [],
   "source": [
    "from ddgan import GAN\n",
    "from ddgan import *"
   ]
  },
  {
   "cell_type": "code",
   "execution_count": 3,
   "id": "ce8583eb",
   "metadata": {},
   "outputs": [
    {
     "name": "stdout",
     "output_type": "stream",
     "text": [
      "looking for previous saved models\n",
      "making new generator and critic\n",
      "type and shape (nPOD by nTrain) of POD coeffs from csv file <class 'numpy.ndarray'> (10, 200) float32\n"
     ]
    }
   ],
   "source": [
    "kwargs = {\n",
    "    \"nsteps\" : 5,\n",
    "    \"ndims\" : 5,\n",
    "    \"lmbda\" : 10,\n",
    "    \"n_critic\" : 5,\n",
    "    \"batches\" : 10,\n",
    "    \"batch_size\" : 20\n",
    "}\n",
    "\n",
    "gan = GAN(**kwargs)\n",
    "gan.setup()\n",
    "set_seed(gan.seed)\n",
    "\n",
    "ndims_latent_input = 10\n",
    "\n",
    "csv_data = np.load('../data/processed/pod_coeffs_field_Velocity_onegrid.npy', )\n",
    "csv_data = np.float32(csv_data)\n",
    "csv_data = csv_data[0,:,:]\n",
    "\n",
    "print('type and shape (nPOD by nTrain) of POD coeffs from csv file', type(csv_data), csv_data.shape, csv_data.dtype)\n"
   ]
  },
  {
   "cell_type": "code",
   "execution_count": 4,
   "id": "4582fef0",
   "metadata": {},
   "outputs": [],
   "source": [
    "nTrain = csv_data.shape[1]\n",
    "nPOD = csv_data.shape[0]\n",
    "\n",
    "csv_data = csv_data.T # nTrain by nPOD\n"
   ]
  },
  {
   "cell_type": "code",
   "execution_count": 5,
   "id": "269aef2d",
   "metadata": {},
   "outputs": [
    {
     "name": "stdout",
     "output_type": "stream",
     "text": [
      "min and max of col,  0  of csv_data: -1.0 1.0\n",
      "min and max of col,  1  of csv_data: -1.0 1.0\n",
      "min and max of col,  2  of csv_data: -1.0 1.0\n",
      "min and max of col,  3  of csv_data: -1.0 1.0\n",
      "min and max of col,  4  of csv_data: -1.0 1.0000001\n",
      "min and max of col,  5  of csv_data: -1.0 1.0\n",
      "min and max of col,  6  of csv_data: -1.0 0.9999999\n",
      "min and max of col,  7  of csv_data: -1.0 1.0\n",
      "min and max of col,  8  of csv_data: -1.0 1.0\n",
      "min and max of col,  9  of csv_data: -1.0 1.0\n"
     ]
    }
   ],
   "source": [
    "scaling = sklearn.preprocessing.MinMaxScaler(feature_range=[-1,1])\n",
    "csv_data = scaling.fit_transform(csv_data)\n",
    "\n",
    "for icol in range(csv_data.shape[1]):\n",
    "    print('min and max of col, ', icol ,' of csv_data:', np.min(csv_data[:,icol]), np.max(csv_data[:,icol]) )\n"
   ]
  },
  {
   "cell_type": "code",
   "execution_count": 6,
   "id": "18949248",
   "metadata": {},
   "outputs": [],
   "source": [
    "nsteps = 5\n",
    "t_begin = 0\n",
    "t_end = nTrain - nsteps + 1\n",
    "training_data = np.zeros((t_end, nPOD * gan.nsteps), dtype=np.float32) # nTrain by nsteps*nPOD # 'float32' or np.float32\n",
    "\n",
    "input_to_GAN = tf.random.normal([training_data.shape[0], ndims_latent_input])\n",
    "input_to_GAN = input_to_GAN.numpy()"
   ]
  },
  {
   "cell_type": "code",
   "execution_count": 7,
   "id": "9e88eee0",
   "metadata": {},
   "outputs": [
    {
     "name": "stdout",
     "output_type": "stream",
     "text": [
      "Shape of training data for the GAN (196, 50) float32\n"
     ]
    }
   ],
   "source": [
    "for step in range(nsteps):\n",
    "    training_data[:,step*nPOD:(step+1)*nPOD] = csv_data[t_begin+step : t_end+step,:]\n",
    "print('Shape of training data for the GAN', training_data.shape, training_data.dtype)"
   ]
  },
  {
   "cell_type": "code",
   "execution_count": 8,
   "id": "e249be16",
   "metadata": {},
   "outputs": [],
   "source": [
    "input_to_GAN = tf.random.normal([training_data.shape[0], ndims_latent_input])\n",
    "input_to_GAN = input_to_GAN.numpy()"
   ]
  },
  {
   "cell_type": "code",
   "execution_count": 10,
   "id": "4f5d57f5",
   "metadata": {},
   "outputs": [
    {
     "name": "stdout",
     "output_type": "stream",
     "text": [
      "beginning training\n",
      "epoch: 0\n"
     ]
    },
    {
     "ename": "ValueError",
     "evalue": "cannot reshape array of size 9800 into shape (10,20,25)",
     "output_type": "error",
     "traceback": [
      "\u001b[0;31m-------------------------------------------------------------\u001b[0m",
      "\u001b[0;31mValueError\u001b[0m                  Traceback (most recent call last)",
      "\u001b[0;32m<ipython-input-10-57d9d419b9d8>\u001b[0m in \u001b[0;36m<module>\u001b[0;34m\u001b[0m\n\u001b[1;32m      1\u001b[0m \u001b[0mt0\u001b[0m \u001b[0;34m=\u001b[0m \u001b[0mtime\u001b[0m\u001b[0;34m.\u001b[0m\u001b[0mtime\u001b[0m\u001b[0;34m(\u001b[0m\u001b[0;34m)\u001b[0m\u001b[0;34m\u001b[0m\u001b[0;34m\u001b[0m\u001b[0m\n\u001b[0;32m----> 2\u001b[0;31m \u001b[0mgan\u001b[0m\u001b[0;34m.\u001b[0m\u001b[0mlearn_hypersurface_from_POD_coeffs\u001b[0m\u001b[0;34m(\u001b[0m\u001b[0mnPOD\u001b[0m\u001b[0;34m,\u001b[0m \u001b[0minput_to_GAN\u001b[0m\u001b[0;34m,\u001b[0m \u001b[0mtraining_data\u001b[0m\u001b[0;34m,\u001b[0m \u001b[0mndims_latent_input\u001b[0m\u001b[0;34m)\u001b[0m\u001b[0;34m\u001b[0m\u001b[0;34m\u001b[0m\u001b[0m\n\u001b[0m\u001b[1;32m      3\u001b[0m \u001b[0mt_train\u001b[0m \u001b[0;34m=\u001b[0m \u001b[0mtime\u001b[0m\u001b[0;34m.\u001b[0m\u001b[0mtime\u001b[0m\u001b[0;34m(\u001b[0m\u001b[0;34m)\u001b[0m \u001b[0;34m-\u001b[0m \u001b[0mt0\u001b[0m\u001b[0;34m\u001b[0m\u001b[0;34m\u001b[0m\u001b[0m\n",
      "\u001b[0;32m/mnt/c/Users/Jón Atli Tómasson/OneDrive - Imperial College London/acse9/Final project/DD-GAN/DD-GAN/ddgan/src/Train.py\u001b[0m in \u001b[0;36mlearn_hypersurface_from_POD_coeffs\u001b[0;34m(self, nPOD, input_to_GAN, training_data, ndims_latent_input)\u001b[0m\n\u001b[1;32m    353\u001b[0m         \u001b[0mprint\u001b[0m\u001b[0;34m(\u001b[0m\u001b[0;34m'beginning training'\u001b[0m\u001b[0;34m)\u001b[0m\u001b[0;34m\u001b[0m\u001b[0;34m\u001b[0m\u001b[0m\n\u001b[1;32m    354\u001b[0m         \u001b[0mepochs\u001b[0m \u001b[0;34m=\u001b[0m \u001b[0;36m500\u001b[0m\u001b[0;34m\u001b[0m\u001b[0;34m\u001b[0m\u001b[0m\n\u001b[0;32m--> 355\u001b[0;31m         \u001b[0mself\u001b[0m\u001b[0;34m.\u001b[0m\u001b[0mtrain\u001b[0m\u001b[0;34m(\u001b[0m\u001b[0mtraining_data\u001b[0m\u001b[0;34m,\u001b[0m \u001b[0minput_to_GAN\u001b[0m\u001b[0;34m,\u001b[0m \u001b[0mepochs\u001b[0m\u001b[0;34m)\u001b[0m\u001b[0;34m\u001b[0m\u001b[0;34m\u001b[0m\u001b[0m\n\u001b[0m\u001b[1;32m    356\u001b[0m         \u001b[0mprint\u001b[0m\u001b[0;34m(\u001b[0m\u001b[0;34m'ending training'\u001b[0m\u001b[0;34m)\u001b[0m\u001b[0;34m\u001b[0m\u001b[0;34m\u001b[0m\u001b[0m\n\u001b[1;32m    357\u001b[0m \u001b[0;34m\u001b[0m\u001b[0m\n",
      "\u001b[0;32m/mnt/c/Users/Jón Atli Tómasson/OneDrive - Imperial College London/acse9/Final project/DD-GAN/DD-GAN/ddgan/src/Train.py\u001b[0m in \u001b[0;36mtrain\u001b[0;34m(self, training_data, input_to_GAN, epochs)\u001b[0m\n\u001b[1;32m    306\u001b[0m             \u001b[0mreal_data\u001b[0m\u001b[0;34m,\u001b[0m \u001b[0mnoise\u001b[0m \u001b[0;34m=\u001b[0m \u001b[0msklearn\u001b[0m\u001b[0;34m.\u001b[0m\u001b[0mutils\u001b[0m\u001b[0;34m.\u001b[0m\u001b[0mshuffle\u001b[0m\u001b[0;34m(\u001b[0m\u001b[0mreal_data\u001b[0m\u001b[0;34m,\u001b[0m \u001b[0mnoise\u001b[0m\u001b[0;34m)\u001b[0m\u001b[0;34m\u001b[0m\u001b[0;34m\u001b[0m\u001b[0m\n\u001b[1;32m    307\u001b[0m \u001b[0;34m\u001b[0m\u001b[0m\n\u001b[0;32m--> 308\u001b[0;31m             xx1 = real_data.reshape(self.batches,\n\u001b[0m\u001b[1;32m    309\u001b[0m                                     \u001b[0mself\u001b[0m\u001b[0;34m.\u001b[0m\u001b[0mbatch_size\u001b[0m\u001b[0;34m,\u001b[0m\u001b[0;34m\u001b[0m\u001b[0;34m\u001b[0m\u001b[0m\n\u001b[1;32m    310\u001b[0m                                     self.ndims*self.nsteps)\n",
      "\u001b[0;31mValueError\u001b[0m: cannot reshape array of size 9800 into shape (10,20,25)"
     ]
    }
   ],
   "source": [
    "t0 = time.time()\n",
    "gan.learn_hypersurface_from_POD_coeffs(nPOD, input_to_GAN, training_data, ndims_latent_input)\n",
    "t_train = time.time() - t0"
   ]
  },
  {
   "cell_type": "code",
   "execution_count": null,
   "id": "daf9f2e3",
   "metadata": {},
   "outputs": [],
   "source": [
    "gan.learn_hypersurface_from_POD_coeffs?"
   ]
  },
  {
   "cell_type": "code",
   "execution_count": null,
   "id": "57d4f861",
   "metadata": {},
   "outputs": [],
   "source": []
  }
 ],
 "metadata": {
  "kernelspec": {
   "display_name": "Python 3",
   "language": "python",
   "name": "python3"
  },
  "language_info": {
   "codemirror_mode": {
    "name": "ipython",
    "version": 3
   },
   "file_extension": ".py",
   "mimetype": "text/x-python",
   "name": "python",
   "nbconvert_exporter": "python",
   "pygments_lexer": "ipython3",
   "version": "3.9.5"
  }
 },
 "nbformat": 4,
 "nbformat_minor": 5
}
