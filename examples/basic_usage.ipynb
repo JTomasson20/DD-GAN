{
 "cells": [
  {
   "cell_type": "markdown",
   "id": "2f272981",
   "metadata": {},
   "source": [
    "# Example usage notebook of the DD-GAN repo"
   ]
  },
  {
   "cell_type": "code",
   "execution_count": 1,
   "id": "7016a0a9",
   "metadata": {},
   "outputs": [],
   "source": [
    "import numpy as np\n",
    "import sklearn.preprocessing\n",
    "import tensorflow as tf"
   ]
  },
  {
   "cell_type": "markdown",
   "id": "efce4a49",
   "metadata": {},
   "source": [
    "After installation of the ddgan package run the following line to import it"
   ]
  },
  {
   "cell_type": "code",
   "execution_count": 2,
   "id": "b944d331",
   "metadata": {},
   "outputs": [],
   "source": [
    "from ddgan import GAN"
   ]
  },
  {
   "cell_type": "code",
   "execution_count": 6,
   "id": "ce8583eb",
   "metadata": {},
   "outputs": [
    {
     "name": "stdout",
     "output_type": "stream",
     "text": [
      "looking for previous saved models\n",
      "making new generator and critic\n"
     ]
    }
   ],
   "source": [
    "kwargs = {\n",
    "    \"nsteps\" : 5,\n",
    "    \"ndims\" : 5,\n",
    "    \"lambda\" : 10,\n",
    "    \"n_critic\" : 5,\n",
    "    \"batches\" : 10,\n",
    "    \"batch_size\" : 20\n",
    "}\n",
    "\n",
    "gan = GAN()\n",
    "gan.setup(kwargs)\n",
    "\n",
    "nTrain = 100\n",
    "nPOD = 10\n",
    "\n",
    "ndims_latent_input = 2\n",
    "\n",
    "t_begin = 0\n",
    "t_end = nTrain - gan.nsteps + 1\n",
    "training_data = np.zeros((t_end, nPOD * gan.nsteps), dtype=np.float32) # nTrain by nsteps*nPOD # 'float32' or np.float32\n",
    "\n",
    "input_to_GAN = tf.random.normal([training_data.shape[0], ndims_latent_input])\n",
    "input_to_GAN = input_to_GAN.numpy()"
   ]
  },
  {
   "cell_type": "code",
   "execution_count": null,
   "id": "dcf2a8b3",
   "metadata": {},
   "outputs": [],
   "source": []
  }
 ],
 "metadata": {
  "kernelspec": {
   "display_name": "Python 3",
   "language": "python",
   "name": "python3"
  },
  "language_info": {
   "codemirror_mode": {
    "name": "ipython",
    "version": 3
   },
   "file_extension": ".py",
   "mimetype": "text/x-python",
   "name": "python",
   "nbconvert_exporter": "python",
   "pygments_lexer": "ipython3",
   "version": "3.9.5"
  }
 },
 "nbformat": 4,
 "nbformat_minor": 5
}
